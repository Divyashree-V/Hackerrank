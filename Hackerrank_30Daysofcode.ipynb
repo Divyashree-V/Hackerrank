{
  "nbformat": 4,
  "nbformat_minor": 0,
  "metadata": {
    "colab": {
      "name": "Hackerrank_30Daysofcode",
      "provenance": [],
      "collapsed_sections": [],
      "authorship_tag": "ABX9TyP7oFsAEREvq3UOGjz96ECn",
      "include_colab_link": true
    },
    "kernelspec": {
      "name": "python3",
      "display_name": "Python 3"
    }
  },
  "cells": [
    {
      "cell_type": "markdown",
      "metadata": {
        "id": "view-in-github",
        "colab_type": "text"
      },
      "source": [
        "<a href=\"https://colab.research.google.com/github/Divyashree-V/Hackerrank/blob/master/Hackerrank_30Daysofcode.ipynb\" target=\"_parent\"><img src=\"https://colab.research.google.com/assets/colab-badge.svg\" alt=\"Open In Colab\"/></a>"
      ]
    },
    {
      "cell_type": "markdown",
      "metadata": {
        "id": "NjB9g6EMmytu",
        "colab_type": "text"
      },
      "source": [
        "###**Day 0: Hello, World.**"
      ]
    },
    {
      "cell_type": "code",
      "metadata": {
        "id": "1lms75-BmSL8",
        "colab_type": "code",
        "colab": {}
      },
      "source": [
        "# Read a full line of input from stdin and save it to our dynamically typed variable, input_string.\n",
        "input_string = input()\n",
        "# Print a string literal saying \"Hello, World.\" to stdout.\n",
        "print('Hello, World.')\n",
        "# TODO: Write a line of code here that prints the contents of input_string to stdout.\n",
        "input=('Enter the String')\n",
        "print(input_string)"
      ],
      "execution_count": null,
      "outputs": []
    },
    {
      "cell_type": "markdown",
      "metadata": {
        "id": "2NPEHq2knlt3",
        "colab_type": "text"
      },
      "source": [
        "### **Day 1: Data Types**\n"
      ]
    },
    {
      "cell_type": "code",
      "metadata": {
        "id": "3IlpIrN7mT4M",
        "colab_type": "code",
        "colab": {}
      },
      "source": [
        "i = 4\n",
        "d = 4.0\n",
        "s = 'HackerRank '\n",
        "# Declare second integer, double, and String variables.\n",
        "n=int(input())\n",
        "j=float(input())\n",
        "k=str(input())\n",
        "print(n+i)\n",
        "print(j+d)\n",
        "x=s+k\n",
        "print(x)"
      ],
      "execution_count": null,
      "outputs": []
    },
    {
      "cell_type": "markdown",
      "metadata": {
        "id": "N3jp4LIwoBib",
        "colab_type": "text"
      },
      "source": [
        "### **Day 2: Operators**\n"
      ]
    },
    {
      "cell_type": "code",
      "metadata": {
        "id": "rR-dFHjWmfLX",
        "colab_type": "code",
        "colab": {}
      },
      "source": [
        "#!/bin/python3\n",
        "\n",
        "import math\n",
        "import os\n",
        "import random\n",
        "import re\n",
        "import sys\n",
        "\n",
        "# Complete the solve function below.\n",
        "def solve(meal_cost, tip_percent, tax_percent):\n",
        "    tip = meal_cost * tip_percent / 100\n",
        "    tax = meal_cost * tax_percent / 100\n",
        "    totalCost = meal_cost + tip + tax\n",
        "    print(str(round(totalCost)))\n",
        "\n",
        "if __name__ == '__main__':\n",
        "    meal_cost = float(input())\n",
        "    tip_percent = int(input())\n",
        "    tax_percent = int(input())\n",
        "    solve(meal_cost, tip_percent, tax_percent)"
      ],
      "execution_count": null,
      "outputs": []
    },
    {
      "cell_type": "markdown",
      "metadata": {
        "id": "Lci3J5VBoIxH",
        "colab_type": "text"
      },
      "source": [
        "### **Day 3:Intro to Conditional Statements**"
      ]
    },
    {
      "cell_type": "code",
      "metadata": {
        "id": "yLK0Ia_DmrEO",
        "colab_type": "code",
        "colab": {}
      },
      "source": [
        "#!/bin/python3\n",
        "\n",
        "import math\n",
        "import os\n",
        "import random\n",
        "import re\n",
        "import sys\n",
        "\n",
        "n = int(input().strip())\n",
        "if n%2 != 0:\n",
        "    print('Weird')\n",
        "if n%2 == 0:\n",
        "    if n>=2 and n<=5:\n",
        "        print('Not Weird')\n",
        "    if n>=6 and n<=20:\n",
        "        print('Weird')\n",
        "    if n>20:\n",
        "        print('Not Weird')"
      ],
      "execution_count": null,
      "outputs": []
    },
    {
      "cell_type": "markdown",
      "metadata": {
        "id": "TA9kafffoZmj",
        "colab_type": "text"
      },
      "source": [
        "### **Day 4: Class vs. Instance**"
      ]
    },
    {
      "cell_type": "code",
      "metadata": {
        "id": "6UloT_mYoYx4",
        "colab_type": "code",
        "colab": {}
      },
      "source": [
        "class Person:\n",
        "    age = 0\n",
        "    def __init__(self,initialAge):\n",
        "        if initialAge < 0:\n",
        "            print (\"Age is not valid, setting age to 0.\")\n",
        "        else:\n",
        "            self.age = initialAge\n",
        "    def amIOld(self):\n",
        "        if self.age < 13:\n",
        "            print (\"You are young.\")\n",
        "        elif self.age >= 13 and self.age < 18:\n",
        "            print (\"You are a teenager.\")\n",
        "        else:\n",
        "            print (\"You are old.\")\n",
        "    def yearPasses(self):\n",
        "        self.age += 1\n",
        "t = int(input())\n",
        "for i in range(0, t):\n",
        "    age = int(input())         \n",
        "    p = Person(age)  \n",
        "    p.amIOld()\n",
        "    for j in range(0, 3):\n",
        "        p.yearPasses()       \n",
        "    p.amIOld()\n",
        "    print(\"\")"
      ],
      "execution_count": null,
      "outputs": []
    },
    {
      "cell_type": "markdown",
      "metadata": {
        "id": "hbLvl-msoqv3",
        "colab_type": "text"
      },
      "source": [
        "### **Day 5: Loops**"
      ]
    },
    {
      "cell_type": "code",
      "metadata": {
        "id": "6DC458PqoxTD",
        "colab_type": "code",
        "colab": {}
      },
      "source": [
        "#!/bin/python3\n",
        "\n",
        "import math\n",
        "import os\n",
        "import random\n",
        "import re\n",
        "import sys\n",
        "\n",
        "n = int(input())\n",
        "\n",
        "for i in range(1, 11):\n",
        "    print (\"{} x {} = {}\" .format(n, i, n * i))"
      ],
      "execution_count": null,
      "outputs": []
    },
    {
      "cell_type": "markdown",
      "metadata": {
        "id": "v0F6fB-Boye_",
        "colab_type": "text"
      },
      "source": [
        "\n",
        "### **Day 6: Let's Review**"
      ]
    },
    {
      "cell_type": "code",
      "metadata": {
        "id": "U-LZU1tJoyui",
        "colab_type": "code",
        "colab": {}
      },
      "source": [
        "# Enter your code here. Read input from STDIN. Print output to STDOUT\n",
        "t = int(input())\n",
        "\n",
        "for i in range(t):\n",
        "    S = str(input())\n",
        "    print (S[::2], S[1::2])"
      ],
      "execution_count": null,
      "outputs": []
    },
    {
      "cell_type": "markdown",
      "metadata": {
        "id": "QwNYP_kDoy7c",
        "colab_type": "text"
      },
      "source": [
        "### **Day 7: Arrays**"
      ]
    },
    {
      "cell_type": "code",
      "metadata": {
        "id": "nH6wpQjUozGR",
        "colab_type": "code",
        "colab": {}
      },
      "source": [
        "#!/bin/python3\n",
        "\n",
        "import math\n",
        "import os\n",
        "import random\n",
        "import re\n",
        "import sys\n",
        "\n",
        "n = int(input().strip())\n",
        "arr = list(map(int, input().rstrip().split()))\n",
        "a =  arr[::-1]\n",
        "print (\" \".join(str(x) for x in a))\n"
      ],
      "execution_count": null,
      "outputs": []
    },
    {
      "cell_type": "markdown",
      "metadata": {
        "id": "bO9S2vvEozQI",
        "colab_type": "text"
      },
      "source": [
        "### **Day 8: Dictionaries and Maps**"
      ]
    },
    {
      "cell_type": "code",
      "metadata": {
        "id": "5M6mBAJcozZJ",
        "colab_type": "code",
        "colab": {}
      },
      "source": [
        "n = int(input())\n",
        "d = dict()\n",
        "\n",
        "for i in range(0, n):\n",
        "    name, number = input().split()\n",
        "    d[name] = number\n",
        "\n",
        "for i in range(0, n):\n",
        "    try:\n",
        "        name = input()\n",
        "        if name in d:\n",
        "            print(f\"{name}={d[name]}\")\n",
        "        else:\n",
        "            print(\"Not found\")\n",
        "    except:\n",
        "        break"
      ],
      "execution_count": null,
      "outputs": []
    },
    {
      "cell_type": "markdown",
      "metadata": {
        "id": "HZfaaI7Xozjq",
        "colab_type": "text"
      },
      "source": [
        "## **Day 9: Recursion 3**"
      ]
    },
    {
      "cell_type": "code",
      "metadata": {
        "id": "BIUV69ySozs5",
        "colab_type": "code",
        "colab": {}
      },
      "source": [
        "#!/bin/python3\n",
        "\n",
        "import math\n",
        "import os\n",
        "import random\n",
        "import re\n",
        "import sys\n",
        "\n",
        "N = int(input())\n",
        "\n",
        "def factorial(x):\n",
        "    if x == 0:\n",
        "        return 1\n",
        "    return x * factorial(x - 1)\n",
        "\n",
        "print (factorial(N))"
      ],
      "execution_count": null,
      "outputs": []
    },
    {
      "cell_type": "markdown",
      "metadata": {
        "id": "bEGL1xodoz3k",
        "colab_type": "text"
      },
      "source": [
        "## **Day 10: Binary Numbers**"
      ]
    },
    {
      "cell_type": "code",
      "metadata": {
        "id": "76LzjS3So0BQ",
        "colab_type": "code",
        "colab": {}
      },
      "source": [
        "#!/bin/python3\n",
        "\n",
        "import math\n",
        "import os\n",
        "import random\n",
        "import re\n",
        "import sys\n",
        "\n",
        "n = int(input().strip())\n",
        "a = str(bin(n)[2:])\n",
        "b = a.split(\"0\")\n",
        "max_length = 0\n",
        "\n",
        "for i in b:\n",
        "    if len(i) > max_length:\n",
        "        max_length = len(i)\n",
        "        \n",
        "print (max_length)"
      ],
      "execution_count": null,
      "outputs": []
    },
    {
      "cell_type": "markdown",
      "metadata": {
        "id": "Q0LwsgR8p1hr",
        "colab_type": "text"
      },
      "source": [
        "## **Day 11: 2D Arrays**"
      ]
    },
    {
      "cell_type": "code",
      "metadata": {
        "id": "a0HAv_w6p1q3",
        "colab_type": "code",
        "colab": {}
      },
      "source": [
        "#!/bin/python3\n",
        "\n",
        "import math\n",
        "import os\n",
        "import random\n",
        "import re\n",
        "import sys\n",
        "\n",
        "a = []\n",
        "for arr_i in range(6):\n",
        "   arr_t = [int(arr_temp) for arr_temp in input().strip().split(' ')]\n",
        "   a.append(arr_t)\n",
        "    \n",
        "s_list = []\n",
        "\n",
        "def cal_sum(i,j):\n",
        "    return(a[i][j] + a[i][j+1] + a[i][j+2] + a[i+1][j+1] + a[i+2][j] + a[i+2][j+1] + a[i+2][j+2])\n",
        "\n",
        "for j in range(0,4):\n",
        "    for i in range(0,4):\n",
        "        sum = cal_sum(i,j)\n",
        "        s_list.append(sum)\n",
        "    \n",
        "print(max(s_list))"
      ],
      "execution_count": null,
      "outputs": []
    },
    {
      "cell_type": "markdown",
      "metadata": {
        "id": "WBexmDKzp1zY",
        "colab_type": "text"
      },
      "source": [
        "## **Day 12: Inheritance**"
      ]
    },
    {
      "cell_type": "code",
      "metadata": {
        "id": "VardDp-cp175",
        "colab_type": "code",
        "colab": {}
      },
      "source": [
        "class Person:\n",
        "\tdef __init__(self, firstName, lastName, idNumber):\n",
        "\t\tself.firstName = firstName\n",
        "\t\tself.lastName = lastName\n",
        "\t\tself.idNumber = idNumber\n",
        "\tdef printPerson(self):\n",
        "\t\tprint(\"Name:\", self.lastName + \",\", self.firstName)\n",
        "\t\tprint(\"ID:\", self.idNumber)\n",
        "\n",
        "class Student(Person):\n",
        "    def __init__(self, firstName, lastName, idNumber, scores):\n",
        "        super().__init__(firstName, lastName, idNumber)\n",
        "        self.scores = scores\n",
        "\n",
        "    def calculate(self):\n",
        "        a = sum(self.scores) / len(self.scores)\n",
        "        if a < 40:\n",
        "            return \"T\"\n",
        "        elif (40 <= a) and (a < 55):\n",
        "            return \"D\"\n",
        "        elif (55 <= a) and (a < 70):\n",
        "            return \"P\"\n",
        "        elif (70 <= a) and (a < 80):\n",
        "            return \"A\"\n",
        "        elif (80 <= a) and (a < 90):\n",
        "            return \"E\"\n",
        "        elif (90 <= a) and (a <= 100):\n",
        "            return \"O\"\n",
        "        else:\n",
        "            return \"\"\n",
        "        \n",
        "line = input().split()\n",
        "firstName = line[0]\n",
        "lastName = line[1]\n",
        "idNum = line[2]\n",
        "numScores = int(input()) # not needed for Python\n",
        "scores = list( map(int, input().split()) )\n",
        "s = Student(firstName, lastName, idNum, scores)\n",
        "s.printPerson()\n",
        "print(\"Grade:\", s.calculate())"
      ],
      "execution_count": null,
      "outputs": []
    },
    {
      "cell_type": "markdown",
      "metadata": {
        "id": "2fksYSgip2Et",
        "colab_type": "text"
      },
      "source": [
        "## **Day 13: Abstract Classes**"
      ]
    },
    {
      "cell_type": "code",
      "metadata": {
        "id": "GxHdPmkYp2Nc",
        "colab_type": "code",
        "colab": {}
      },
      "source": [
        "from abc import ABCMeta, abstractmethod\n",
        "class Book(object, metaclass=ABCMeta):\n",
        "    def __init__(self,title,author):\n",
        "        self.title=title\n",
        "        self.author=author   \n",
        "    @abstractmethod\n",
        "    def display(): pass\n",
        "\n",
        "#Write MyBook class\n",
        "class MyBook(Book):\n",
        "    def __init__(self, title, author, price):\n",
        "        super().__init__(title, author)\n",
        "        self.price = price\n",
        "\n",
        "    def display(self):\n",
        "        print(\"Title:\", self.title)\n",
        "        print(\"Author:\", self.author)\n",
        "        print(\"Price:\", self.price)\n",
        "        \n",
        "title=input()\n",
        "author=input()\n",
        "price=int(input())\n",
        "new_novel=MyBook(title,author,price)\n",
        "new_novel.display()"
      ],
      "execution_count": null,
      "outputs": []
    },
    {
      "cell_type": "markdown",
      "metadata": {
        "id": "rp_Rgdhjp2YJ",
        "colab_type": "text"
      },
      "source": [
        "## **Day 14: Scope**"
      ]
    },
    {
      "cell_type": "code",
      "metadata": {
        "id": "6o5Gek20p2hw",
        "colab_type": "code",
        "colab": {}
      },
      "source": [
        "class Difference:\n",
        "    def __init__(self, a):\n",
        "        self.__elements = a\n",
        "        self.maximumDifference = 0\n",
        "     \n",
        "    def computeDifference(self):\n",
        "        self.maximumDifference=max(a)-min(a)\n",
        "# End of Difference class\n",
        "\n",
        "_ = input()\n",
        "a = [int(e) for e in input().split(' ')]\n",
        "\n",
        "d = Difference(a)\n",
        "d.computeDifference()\n",
        "\n",
        "print(d.maximumDifference)"
      ],
      "execution_count": null,
      "outputs": []
    },
    {
      "cell_type": "markdown",
      "metadata": {
        "id": "NqXWCIDRp2q0",
        "colab_type": "text"
      },
      "source": [
        "## **Day 15: Linked List**"
      ]
    },
    {
      "cell_type": "code",
      "metadata": {
        "id": "BEvFTs_Gp2zy",
        "colab_type": "code",
        "colab": {}
      },
      "source": [
        "class Node:\n",
        "    def __init__(self,data):\n",
        "        self.data = data\n",
        "        self.next = None \n",
        "class Solution: \n",
        "    def display(self,head):\n",
        "        current = head\n",
        "        while current:\n",
        "            print(current.data,end=' ')\n",
        "            current = current.next\n",
        "\n",
        "    def insert(self,head,data): \n",
        "        if head is None:\n",
        "            head = Node(data)\n",
        "        elif head.next is None:\n",
        "            head.next = Node(data)\n",
        "        else: \n",
        "            self.insert(head.next, data)\n",
        "        return head\n",
        "\n",
        "mylist= Solution()\n",
        "T=int(input())\n",
        "head=None\n",
        "for i in range(T):\n",
        "    data=int(input())\n",
        "    head=mylist.insert(head,data)    \n",
        "mylist.display(head); \t  "
      ],
      "execution_count": null,
      "outputs": []
    },
    {
      "cell_type": "markdown",
      "metadata": {
        "id": "ZurtRCu-p282",
        "colab_type": "text"
      },
      "source": [
        "## **Day 16: Exceptions - String to Integer**"
      ]
    },
    {
      "cell_type": "code",
      "metadata": {
        "id": "ov0QNEKlp3Fr",
        "colab_type": "code",
        "colab": {}
      },
      "source": [
        "#!/bin/python3\n",
        "\n",
        "import sys\n",
        "S = input().strip()\n",
        "try: \n",
        "    r = int(S)\n",
        "    print(r)\n",
        "except ValueError:\n",
        "    print(\"Bad String\")"
      ],
      "execution_count": null,
      "outputs": []
    },
    {
      "cell_type": "markdown",
      "metadata": {
        "id": "Gtoj4dvQp3QV",
        "colab_type": "text"
      },
      "source": [
        "## **Day 17: More Exceptions**"
      ]
    },
    {
      "cell_type": "code",
      "metadata": {
        "id": "cogXpjUlp3Yu",
        "colab_type": "code",
        "colab": {}
      },
      "source": [
        "class Calculator(Exception):\n",
        "    def power(self,n,p):\n",
        "        if (n<0 or p<0):\n",
        "            raise Calculator(\"n and p should be non-negative\")\n",
        "        else:\n",
        "            return pow(n,p)\n",
        "\n",
        "myCalculator=Calculator()\n",
        "T=int(input())\n",
        "for i in range(T):\n",
        "    n,p = map(int, input().split())\n",
        "    try:\n",
        "        ans=myCalculator.power(n,p)\n",
        "        print(ans)\n",
        "    except Exception as e:\n",
        "        print(e)   "
      ],
      "execution_count": null,
      "outputs": []
    },
    {
      "cell_type": "markdown",
      "metadata": {
        "id": "lbynfEwRp3hd",
        "colab_type": "text"
      },
      "source": [
        "## **Day 18: Queues and Stacks**"
      ]
    },
    {
      "cell_type": "code",
      "metadata": {
        "id": "l_woWr8ip3qR",
        "colab_type": "code",
        "colab": {}
      },
      "source": [
        "import sys\n",
        "from collections import deque\n",
        "\n",
        "class Solution:\n",
        "    def __init__(self):\n",
        "        self.stack = deque()\n",
        "        self.queue = deque()\n",
        "    \n",
        "    def pushCharacter(self,char):\n",
        "        self.stack.append(char)\n",
        "    \n",
        "    def popCharacter(self):\n",
        "        return self.stack.pop()\n",
        "    \n",
        "    def enqueueCharacter(self,char):\n",
        "        self.queue.append(char)\n",
        "    \n",
        "    def dequeueCharacter(self):\n",
        "        return self.queue.popleft()\n",
        "\n",
        "# read the string.........."
      ],
      "execution_count": null,
      "outputs": []
    },
    {
      "cell_type": "markdown",
      "metadata": {
        "id": "EOUw9wrSp3zL",
        "colab_type": "text"
      },
      "source": [
        "## **Day 19: Interfaces**"
      ]
    },
    {
      "cell_type": "code",
      "metadata": {
        "id": "-nHnc8VOp379",
        "colab_type": "code",
        "colab": {}
      },
      "source": [
        "class AdvancedArithmetic(object):\n",
        "    def divisorSum(n):\n",
        "        raise NotImplementedError\n",
        "\n",
        "class Calculator(AdvancedArithmetic):\n",
        "    def divisorSum(self, n):\n",
        "        s = 0\n",
        "        for i in range(1,n+1):\n",
        "            if (n%i == 0):\n",
        "                s+=i\n",
        "        return s\n",
        "...."
      ],
      "execution_count": null,
      "outputs": []
    },
    {
      "cell_type": "markdown",
      "metadata": {
        "id": "Xji72cQQp4FS",
        "colab_type": "text"
      },
      "source": [
        "## **Day 20: Sorting**"
      ]
    },
    {
      "cell_type": "code",
      "metadata": {
        "id": "YFSDWWmNp4Pf",
        "colab_type": "code",
        "colab": {}
      },
      "source": [
        "#!/bin/python3\n",
        "\n",
        "import sys\n",
        "\n",
        "n = int(input().strip())\n",
        "a = list(map(int, input().strip().split(' ')))\n",
        "numberOfSwaps = 0\n",
        "for i in range(0,n):\n",
        "    for j in range(0, n-1):\n",
        "        if (a[j] > a[j + 1]):\n",
        "            temp=a[j]\n",
        "            a[j] = a[j+1]\n",
        "            a[j+1] = temp\n",
        "            numberOfSwaps += 1\n",
        "    if (numberOfSwaps == 0):\n",
        "        break\n",
        "print( \"Array is sorted in \" + str(numberOfSwaps) + \" swaps.\" )\n",
        "print( \"First Element: \" + str(a[0]) )\n",
        "print( \"Last Element: \" +  str(a[n-1]) )"
      ],
      "execution_count": null,
      "outputs": []
    },
    {
      "cell_type": "markdown",
      "metadata": {
        "id": "CAvZ9qTNr9Qz",
        "colab_type": "text"
      },
      "source": [
        "## **Day 21: Generics**"
      ]
    },
    {
      "cell_type": "code",
      "metadata": {
        "id": "y9EJKJHTr9bQ",
        "colab_type": "code",
        "colab": {}
      },
      "source": [
        "#include <iostream>\n",
        "#include <vector>\n",
        "#include <string>\n",
        "\n",
        "using namespace std;\n",
        "\n",
        "template<class T>\n",
        "void printArray(vector<T> v) \n",
        "{\n",
        "    for(int i=0;i<v.size();i++) \n",
        "    {\n",
        "        cout<<v[i]<<endl;\n",
        "    }\n",
        "} \n",
        "int main() {......"
      ],
      "execution_count": null,
      "outputs": []
    },
    {
      "cell_type": "markdown",
      "metadata": {
        "id": "rWjKAcVAr9j0",
        "colab_type": "text"
      },
      "source": [
        "## **Day 22: Binary Search Trees**\n",
        "\n"
      ]
    },
    {
      "cell_type": "code",
      "metadata": {
        "id": "tyVuK4pJr9sO",
        "colab_type": "code",
        "colab": {}
      },
      "source": [
        "class Node:\n",
        "    def __init__(self,data):\n",
        "        self.right=self.left=None\n",
        "        self.data = data\n",
        "class Solution:\n",
        "    def insert(self,root,data):\n",
        "        if root==None:\n",
        "            return Node(data)\n",
        "        else:\n",
        "            if data<=root.data:\n",
        "                cur=self.insert(root.left,data)\n",
        "                root.left=cur\n",
        "            else:\n",
        "                cur=self.insert(root.right,data)\n",
        "                root.right=cur\n",
        "        return root\n",
        "\n",
        "    def getHeight(self,root):\n",
        "        if root is None or (root.left is None and root.right is None):\n",
        "            return 0\n",
        "        else:\n",
        "            return max(self.getHeight(root.left),self.getHeight(root.right))+1\n",
        "\n",
        "T=int(input()...."
      ],
      "execution_count": null,
      "outputs": []
    },
    {
      "cell_type": "markdown",
      "metadata": {
        "id": "Ghl20pmar9z5",
        "colab_type": "text"
      },
      "source": [
        "## **Day 23: BST Level-Order Traversal**\n",
        "\n"
      ]
    },
    {
      "cell_type": "code",
      "metadata": {
        "id": "xMRHHX8rr994",
        "colab_type": "code",
        "colab": {}
      },
      "source": [
        "import sys\n",
        "\n",
        "    def levelOrder(self,root):\n",
        "        queue = [root]\n",
        "        while len(queue) is not 0:\n",
        "            curr = queue[0]\n",
        "            queue = queue[1:]\n",
        "            print(str(curr.data) + \" \", end=\"\")\n",
        "            if curr.left is not None:\n",
        "                queue.append(curr.left)\n",
        "            if curr.right is not None:\n",
        "                queue.append(curr.right)"
      ],
      "execution_count": null,
      "outputs": []
    },
    {
      "cell_type": "markdown",
      "metadata": {
        "id": "Ke9TddNLr-Gt",
        "colab_type": "text"
      },
      "source": [
        "## **Day 24: More Linked Lists**"
      ]
    },
    {
      "cell_type": "code",
      "metadata": {
        "id": "XQ4S2u-rr-QV",
        "colab_type": "code",
        "colab": {}
      },
      "source": [
        "def removeDuplicates(self,head):\n",
        "        curr = head\n",
        "        while curr is not None and curr.next is not None:\n",
        "            while curr.next is not None and curr.data is curr.next.data:\n",
        "                curr.next = curr.next.next\n",
        "            curr = curr.next\n",
        "        return head"
      ],
      "execution_count": null,
      "outputs": []
    },
    {
      "cell_type": "markdown",
      "metadata": {
        "id": "wzOfXIVer-Zu",
        "colab_type": "text"
      },
      "source": [
        "## **Day 25: Running Time and Complexity**"
      ]
    },
    {
      "cell_type": "code",
      "metadata": {
        "id": "8gcIRbSnr-ij",
        "colab_type": "code",
        "colab": {}
      },
      "source": [
        "from math import sqrt\n",
        "T = int(input())\n",
        "\n",
        "def isPrime(n):\n",
        "    for i in range(2, int(sqrt(n) + 1)):\n",
        "        if n % i is 0:\n",
        "            return False\n",
        "    return True\n",
        "\n",
        "for _ in range(T):\n",
        "    n = int(input())\n",
        "    if n >= 2 and isPrime(n):\n",
        "        print(\"Prime\")\n",
        "    else:\n",
        "        print(\"Not prime\")"
      ],
      "execution_count": null,
      "outputs": []
    },
    {
      "cell_type": "markdown",
      "metadata": {
        "id": "P6Y_HFW9r-sC",
        "colab_type": "text"
      },
      "source": [
        "## **Day 26: Nested Logic**"
      ]
    },
    {
      "cell_type": "code",
      "metadata": {
        "id": "RmIhJaYpr-1I",
        "colab_type": "code",
        "colab": {}
      },
      "source": [
        "actually = str(input()).split(\" \")\n",
        "d = int(actually[0])\n",
        "m = int(actually[1])\n",
        "y = int(actually[2])\n",
        "\n",
        "expected = str(input()).split(\" \")\n",
        "de = int(expected[0])\n",
        "me = int(expected[1])\n",
        "ye = int(expected[2])\n",
        "\n",
        "fine = 0\n",
        "if y > ye:\n",
        "    fine = 10000\n",
        "elif y == ye:\n",
        "    if m > me:\n",
        "        fine = (m - me) * 500\n",
        "    elif m == me and d > de:\n",
        "        fine = (d - de) * 15\n",
        "print(fine)"
      ],
      "execution_count": null,
      "outputs": []
    },
    {
      "cell_type": "markdown",
      "metadata": {
        "id": "QTSDCwPkr--l",
        "colab_type": "text"
      },
      "source": [
        "## **Day 27: Testing**\n"
      ]
    },
    {
      "cell_type": "code",
      "metadata": {
        "id": "01Pw5pBdr_HJ",
        "colab_type": "code",
        "colab": {}
      },
      "source": [
        "class TestDataEmptyArray(object):\n",
        "    \n",
        "    @staticmethod\n",
        "    def get_array():\n",
        "        return []\n",
        "        # complete this function\n",
        "\n",
        "class TestDataUniqueValues(object):\n",
        "    data = []\n",
        "    for i in range(5):\n",
        "        data.append(i)\n",
        "    data[::-1]  \n",
        "    @staticmethod\n",
        "    def get_array():\n",
        "        return TestDataUniqueValues.data\n",
        "    @staticmethod\n",
        "    def get_expected_result():\n",
        "        data = TestDataUniqueValues.get_array()\n",
        "        return data.index(min(data))\n",
        "\n",
        "class TestDataExactlyTwoDifferentMinimums(object):\n",
        "    data = []\n",
        "    for i in range(5):\n",
        "        data.append(i)\n",
        "    data[::-1] \n",
        "    data.insert(0,0)\n",
        "    \n",
        "    @staticmethod\n",
        "    def get_array():\n",
        "        return TestDataExactlyTwoDifferentMinimums.data\n",
        "    @staticmethod\n",
        "    def get_expected_result():\n",
        "        data = TestDataExactlyTwoDifferentMinimums.get_array()\n",
        "        return data.index(min(data))"
      ],
      "execution_count": null,
      "outputs": []
    },
    {
      "cell_type": "markdown",
      "metadata": {
        "id": "VmQd-myBr_R4",
        "colab_type": "text"
      },
      "source": [
        "## **Day 28: RegEx, Patterns, and Intro to Databases**\n",
        "\n"
      ]
    },
    {
      "cell_type": "code",
      "metadata": {
        "id": "eyu9t2fer_bI",
        "colab_type": "code",
        "colab": {}
      },
      "source": [
        "#!/bin/python3\n",
        "\n",
        "import math\n",
        "import os\n",
        "import random\n",
        "import re\n",
        "import sys\n",
        "\n",
        "\n",
        "if __name__ == '__main__':\n",
        "    N = int(input())\n",
        "    validNamesList = []\n",
        "    for N_itr in range(N):\n",
        "        firstNameEmailID = input().split()\n",
        "        firstName = firstNameEmailID[0]\n",
        "        emailID = firstNameEmailID[1]\n",
        "        if emailID.find(\"@gmail.com\") != -1: \n",
        "            validNamesList.append(firstName)\n",
        "    for i in sorted(validNamesList):\n",
        "        print(i)"
      ],
      "execution_count": null,
      "outputs": []
    },
    {
      "cell_type": "markdown",
      "metadata": {
        "id": "x7qLKjoIr_kK",
        "colab_type": "text"
      },
      "source": [
        "## **Day 29: Bitwise AND**\n",
        "\n"
      ]
    },
    {
      "cell_type": "code",
      "metadata": {
        "id": "KGitnWCBr_tB",
        "colab_type": "code",
        "colab": {}
      },
      "source": [
        "import sys\n",
        "\n",
        "t = int(input().strip())\n",
        "for a0 in range(t):\n",
        "    n, k = input().strip().split(' ')\n",
        "    n, k = [int(n), int(k)]\n",
        "    print(k-1 if ((k-1) | k) <= n else k-2)"
      ],
      "execution_count": null,
      "outputs": []
    }
  ]
}